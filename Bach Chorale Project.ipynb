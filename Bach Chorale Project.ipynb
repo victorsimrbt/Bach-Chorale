{
 "cells": [
  {
   "cell_type": "markdown",
   "metadata": {},
   "source": [
    "# MUST RUN TO FUNCTION"
   ]
  },
  {
   "cell_type": "code",
   "execution_count": 314,
   "metadata": {
    "ExecuteTime": {
     "end_time": "2021-06-04T12:04:42.840697Z",
     "start_time": "2021-06-04T12:04:42.831167Z"
    }
   },
   "outputs": [],
   "source": [
    "import numpy as np\n",
    "import pickle\n",
    "from matplotlib import pyplot as plt\n",
    "import random\n",
    "from PIL import Image\n",
    "import os\n",
    "import pandas as pd\n",
    "from IPython.display import clear_output"
   ]
  },
  {
   "cell_type": "code",
   "execution_count": 128,
   "metadata": {
    "ExecuteTime": {
     "end_time": "2021-06-03T20:55:59.719090Z",
     "start_time": "2021-06-03T20:55:59.689243Z"
    }
   },
   "outputs": [],
   "source": [
    "def array2img(notes):\n",
    "    img = np.zeros((len(notes),106))\n",
    "    for i in range(len(img)):\n",
    "        whites = notes[i]\n",
    "        for white in whites:\n",
    "            if white != 0:\n",
    "                img[i][white] = 255\n",
    "    img = np.rot90(img)\n",
    "    return img"
   ]
  },
  {
   "cell_type": "markdown",
   "metadata": {},
   "source": [
    "# Data Preprocessing"
   ]
  },
  {
   "cell_type": "markdown",
   "metadata": {},
   "source": [
    "## Collect Data"
   ]
  },
  {
   "cell_type": "code",
   "execution_count": 197,
   "metadata": {
    "ExecuteTime": {
     "end_time": "2021-06-04T10:54:01.796686Z",
     "start_time": "2021-06-04T10:54:01.778682Z"
    }
   },
   "outputs": [],
   "source": [
    "import os"
   ]
  },
  {
   "cell_type": "code",
   "execution_count": 198,
   "metadata": {
    "ExecuteTime": {
     "end_time": "2021-06-04T10:54:02.107380Z",
     "start_time": "2021-06-04T10:54:02.096407Z"
    }
   },
   "outputs": [
    {
     "data": {
      "text/plain": [
       "'C:\\\\Users\\\\v_sim\\\\Desktop'"
      ]
     },
     "execution_count": 198,
     "metadata": {},
     "output_type": "execute_result"
    }
   ],
   "source": [
    "os.getcwd()"
   ]
  },
  {
   "cell_type": "code",
   "execution_count": 199,
   "metadata": {
    "ExecuteTime": {
     "end_time": "2021-06-04T10:54:02.451319Z",
     "start_time": "2021-06-04T10:54:02.434333Z"
    }
   },
   "outputs": [],
   "source": [
    "os.chdir('C:\\\\Users\\\\v_sim\\\\Desktop\\\\Files\\\\Data\\\\jsb_chorales\\\\train')"
   ]
  },
  {
   "cell_type": "code",
   "execution_count": 200,
   "metadata": {
    "ExecuteTime": {
     "end_time": "2021-06-04T10:54:02.965256Z",
     "start_time": "2021-06-04T10:54:02.959444Z"
    }
   },
   "outputs": [],
   "source": [
    "def extract_data(file):\n",
    "    return file.values"
   ]
  },
  {
   "cell_type": "code",
   "execution_count": 201,
   "metadata": {
    "ExecuteTime": {
     "end_time": "2021-06-04T10:54:03.389537Z",
     "start_time": "2021-06-04T10:54:03.377574Z"
    }
   },
   "outputs": [
    {
     "data": {
      "text/plain": [
       "['chorale_000.csv',\n",
       " 'chorale_001.csv',\n",
       " 'chorale_002.csv',\n",
       " 'chorale_003.csv',\n",
       " 'chorale_004.csv',\n",
       " 'chorale_005.csv',\n",
       " 'chorale_006.csv',\n",
       " 'chorale_007.csv',\n",
       " 'chorale_008.csv',\n",
       " 'chorale_009.csv',\n",
       " 'chorale_010.csv',\n",
       " 'chorale_011.csv',\n",
       " 'chorale_012.csv',\n",
       " 'chorale_013.csv',\n",
       " 'chorale_014.csv',\n",
       " 'chorale_015.csv',\n",
       " 'chorale_016.csv',\n",
       " 'chorale_017.csv',\n",
       " 'chorale_018.csv',\n",
       " 'chorale_019.csv',\n",
       " 'chorale_020.csv',\n",
       " 'chorale_021.csv',\n",
       " 'chorale_022.csv',\n",
       " 'chorale_023.csv',\n",
       " 'chorale_024.csv',\n",
       " 'chorale_025.csv',\n",
       " 'chorale_026.csv',\n",
       " 'chorale_027.csv',\n",
       " 'chorale_028.csv',\n",
       " 'chorale_029.csv',\n",
       " 'chorale_030.csv',\n",
       " 'chorale_031.csv',\n",
       " 'chorale_032.csv',\n",
       " 'chorale_033.csv',\n",
       " 'chorale_034.csv',\n",
       " 'chorale_035.csv',\n",
       " 'chorale_036.csv',\n",
       " 'chorale_037.csv',\n",
       " 'chorale_038.csv',\n",
       " 'chorale_039.csv',\n",
       " 'chorale_040.csv',\n",
       " 'chorale_041.csv',\n",
       " 'chorale_042.csv',\n",
       " 'chorale_043.csv',\n",
       " 'chorale_044.csv',\n",
       " 'chorale_045.csv',\n",
       " 'chorale_046.csv',\n",
       " 'chorale_047.csv',\n",
       " 'chorale_048.csv',\n",
       " 'chorale_049.csv',\n",
       " 'chorale_050.csv',\n",
       " 'chorale_051.csv',\n",
       " 'chorale_052.csv',\n",
       " 'chorale_053.csv',\n",
       " 'chorale_054.csv',\n",
       " 'chorale_055.csv',\n",
       " 'chorale_056.csv',\n",
       " 'chorale_057.csv',\n",
       " 'chorale_058.csv',\n",
       " 'chorale_059.csv',\n",
       " 'chorale_060.csv',\n",
       " 'chorale_061.csv',\n",
       " 'chorale_062.csv',\n",
       " 'chorale_063.csv',\n",
       " 'chorale_064.csv',\n",
       " 'chorale_065.csv',\n",
       " 'chorale_066.csv',\n",
       " 'chorale_067.csv',\n",
       " 'chorale_068.csv',\n",
       " 'chorale_069.csv',\n",
       " 'chorale_070.csv',\n",
       " 'chorale_071.csv',\n",
       " 'chorale_072.csv',\n",
       " 'chorale_073.csv',\n",
       " 'chorale_074.csv',\n",
       " 'chorale_075.csv',\n",
       " 'chorale_076.csv',\n",
       " 'chorale_077.csv',\n",
       " 'chorale_078.csv',\n",
       " 'chorale_079.csv',\n",
       " 'chorale_080.csv',\n",
       " 'chorale_081.csv',\n",
       " 'chorale_082.csv',\n",
       " 'chorale_083.csv',\n",
       " 'chorale_084.csv',\n",
       " 'chorale_085.csv',\n",
       " 'chorale_086.csv',\n",
       " 'chorale_087.csv',\n",
       " 'chorale_088.csv',\n",
       " 'chorale_089.csv',\n",
       " 'chorale_090.csv',\n",
       " 'chorale_091.csv',\n",
       " 'chorale_092.csv',\n",
       " 'chorale_093.csv',\n",
       " 'chorale_094.csv',\n",
       " 'chorale_095.csv',\n",
       " 'chorale_096.csv',\n",
       " 'chorale_097.csv',\n",
       " 'chorale_098.csv',\n",
       " 'chorale_099.csv',\n",
       " 'chorale_100.csv',\n",
       " 'chorale_101.csv',\n",
       " 'chorale_102.csv',\n",
       " 'chorale_103.csv',\n",
       " 'chorale_104.csv',\n",
       " 'chorale_105.csv',\n",
       " 'chorale_106.csv',\n",
       " 'chorale_107.csv',\n",
       " 'chorale_108.csv',\n",
       " 'chorale_109.csv',\n",
       " 'chorale_110.csv',\n",
       " 'chorale_111.csv',\n",
       " 'chorale_112.csv',\n",
       " 'chorale_113.csv',\n",
       " 'chorale_114.csv',\n",
       " 'chorale_115.csv',\n",
       " 'chorale_116.csv',\n",
       " 'chorale_117.csv',\n",
       " 'chorale_118.csv',\n",
       " 'chorale_119.csv',\n",
       " 'chorale_120.csv',\n",
       " 'chorale_121.csv',\n",
       " 'chorale_122.csv',\n",
       " 'chorale_123.csv',\n",
       " 'chorale_124.csv',\n",
       " 'chorale_125.csv',\n",
       " 'chorale_126.csv',\n",
       " 'chorale_127.csv',\n",
       " 'chorale_128.csv',\n",
       " 'chorale_129.csv',\n",
       " 'chorale_130.csv',\n",
       " 'chorale_131.csv',\n",
       " 'chorale_132.csv',\n",
       " 'chorale_133.csv',\n",
       " 'chorale_134.csv',\n",
       " 'chorale_135.csv',\n",
       " 'chorale_136.csv',\n",
       " 'chorale_137.csv',\n",
       " 'chorale_138.csv',\n",
       " 'chorale_139.csv',\n",
       " 'chorale_140.csv',\n",
       " 'chorale_141.csv',\n",
       " 'chorale_142.csv',\n",
       " 'chorale_143.csv',\n",
       " 'chorale_144.csv',\n",
       " 'chorale_145.csv',\n",
       " 'chorale_146.csv',\n",
       " 'chorale_147.csv',\n",
       " 'chorale_148.csv',\n",
       " 'chorale_149.csv',\n",
       " 'chorale_150.csv',\n",
       " 'chorale_151.csv',\n",
       " 'chorale_152.csv',\n",
       " 'chorale_153.csv',\n",
       " 'chorale_154.csv',\n",
       " 'chorale_155.csv',\n",
       " 'chorale_156.csv',\n",
       " 'chorale_157.csv',\n",
       " 'chorale_158.csv',\n",
       " 'chorale_159.csv',\n",
       " 'chorale_160.csv',\n",
       " 'chorale_161.csv',\n",
       " 'chorale_162.csv',\n",
       " 'chorale_163.csv',\n",
       " 'chorale_164.csv',\n",
       " 'chorale_165.csv',\n",
       " 'chorale_166.csv',\n",
       " 'chorale_167.csv',\n",
       " 'chorale_168.csv',\n",
       " 'chorale_169.csv',\n",
       " 'chorale_170.csv',\n",
       " 'chorale_171.csv',\n",
       " 'chorale_172.csv',\n",
       " 'chorale_173.csv',\n",
       " 'chorale_174.csv',\n",
       " 'chorale_175.csv',\n",
       " 'chorale_176.csv',\n",
       " 'chorale_177.csv',\n",
       " 'chorale_178.csv',\n",
       " 'chorale_179.csv',\n",
       " 'chorale_180.csv',\n",
       " 'chorale_181.csv',\n",
       " 'chorale_182.csv',\n",
       " 'chorale_183.csv',\n",
       " 'chorale_184.csv',\n",
       " 'chorale_185.csv',\n",
       " 'chorale_186.csv',\n",
       " 'chorale_187.csv',\n",
       " 'chorale_188.csv',\n",
       " 'chorale_189.csv',\n",
       " 'chorale_190.csv',\n",
       " 'chorale_191.csv',\n",
       " 'chorale_192.csv',\n",
       " 'chorale_193.csv',\n",
       " 'chorale_194.csv',\n",
       " 'chorale_195.csv',\n",
       " 'chorale_196.csv',\n",
       " 'chorale_197.csv',\n",
       " 'chorale_198.csv',\n",
       " 'chorale_199.csv',\n",
       " 'chorale_200.csv',\n",
       " 'chorale_201.csv',\n",
       " 'chorale_202.csv',\n",
       " 'chorale_203.csv',\n",
       " 'chorale_204.csv',\n",
       " 'chorale_205.csv',\n",
       " 'chorale_206.csv',\n",
       " 'chorale_207.csv',\n",
       " 'chorale_208.csv',\n",
       " 'chorale_209.csv',\n",
       " 'chorale_210.csv',\n",
       " 'chorale_211.csv',\n",
       " 'chorale_212.csv',\n",
       " 'chorale_213.csv',\n",
       " 'chorale_214.csv',\n",
       " 'chorale_215.csv',\n",
       " 'chorale_216.csv',\n",
       " 'chorale_217.csv',\n",
       " 'chorale_218.csv',\n",
       " 'chorale_219.csv',\n",
       " 'chorale_220.csv',\n",
       " 'chorale_221.csv',\n",
       " 'chorale_222.csv',\n",
       " 'chorale_223.csv',\n",
       " 'chorale_224.csv',\n",
       " 'chorale_225.csv',\n",
       " 'chorale_226.csv',\n",
       " 'chorale_227.csv',\n",
       " 'chorale_228.csv']"
      ]
     },
     "execution_count": 201,
     "metadata": {},
     "output_type": "execute_result"
    }
   ],
   "source": [
    "os.listdir()"
   ]
  },
  {
   "cell_type": "code",
   "execution_count": 202,
   "metadata": {
    "ExecuteTime": {
     "end_time": "2021-06-04T10:54:05.272456Z",
     "start_time": "2021-06-04T10:54:04.959676Z"
    }
   },
   "outputs": [],
   "source": [
    "data = []\n",
    "lens = []\n",
    "files = os.listdir()\n",
    "for file in files:\n",
    "    file_data = []\n",
    "    csv = pd.read_csv(file)\n",
    "    values = csv.values\n",
    "    num_extract = len(values) // 106\n",
    "    for _ in range(num_extract):\n",
    "        file_data.append(values[_*106:(_+1)*106])\n",
    "    lens.append(len(csv.values))\n",
    "    if file_data:\n",
    "        data.append(file_data)"
   ]
  },
  {
   "cell_type": "code",
   "execution_count": 203,
   "metadata": {
    "ExecuteTime": {
     "end_time": "2021-06-04T10:54:06.691856Z",
     "start_time": "2021-06-04T10:54:06.685435Z"
    }
   },
   "outputs": [
    {
     "data": {
      "text/plain": [
       "(516, 100)"
      ]
     },
     "execution_count": 203,
     "metadata": {},
     "output_type": "execute_result"
    }
   ],
   "source": [
    "max(lens),min(lens)"
   ]
  },
  {
   "cell_type": "code",
   "execution_count": 204,
   "metadata": {
    "ExecuteTime": {
     "end_time": "2021-06-04T10:54:07.005965Z",
     "start_time": "2021-06-04T10:54:06.985027Z"
    }
   },
   "outputs": [],
   "source": [
    "import pickle\n",
    "os.chdir('C:\\\\Users\\\\v_sim\\\\Desktop\\\\Files\\\\Data\\\\jsb_chorales')\n",
    "with open('allchorales.pkl', 'wb') as f:\n",
    "    pickle.dump(data, f)"
   ]
  },
  {
   "cell_type": "code",
   "execution_count": 205,
   "metadata": {
    "ExecuteTime": {
     "end_time": "2021-06-04T10:54:07.284412Z",
     "start_time": "2021-06-04T10:54:07.276503Z"
    }
   },
   "outputs": [
    {
     "data": {
      "text/plain": [
       "228"
      ]
     },
     "execution_count": 205,
     "metadata": {},
     "output_type": "execute_result"
    }
   ],
   "source": [
    "len(data)"
   ]
  },
  {
   "cell_type": "markdown",
   "metadata": {},
   "source": [
    "## Convert to IMG"
   ]
  },
  {
   "cell_type": "markdown",
   "metadata": {},
   "source": [
    "Use Rot90 to convert to real form"
   ]
  },
  {
   "cell_type": "code",
   "execution_count": 185,
   "metadata": {
    "ExecuteTime": {
     "end_time": "2021-06-04T10:53:02.721644Z",
     "start_time": "2021-06-04T10:53:02.588083Z"
    }
   },
   "outputs": [
    {
     "data": {
      "text/plain": [
       "<matplotlib.image.AxesImage at 0x2497d319f40>"
      ]
     },
     "execution_count": 185,
     "metadata": {},
     "output_type": "execute_result"
    },
    {
     "data": {
      "image/png": "[encoded data removed]",
      "text/plain": [
       "<Figure size 432x288 with 1 Axes>"
      ]
     },
     "metadata": {
      "needs_background": "light"
     },
     "output_type": "display_data"
    }
   ],
   "source": [
    "os.chdir('C:\\\\Users\\\\v_sim\\\\Desktop\\\\Files\\\\Data\\\\classical_images')\n",
    "from PIL import Image\n",
    "\n",
    "img = Image.open('classalb_esp1.png')\n",
    "plt.imshow(np.array(img.getdata()).reshape(106,106))"
   ]
  },
  {
   "cell_type": "code",
   "execution_count": 186,
   "metadata": {
    "ExecuteTime": {
     "end_time": "2021-06-04T10:53:04.016887Z",
     "start_time": "2021-06-04T10:53:04.003930Z"
    }
   },
   "outputs": [
    {
     "data": {
      "image/png": "[encoded data removed]",
      "text/plain": [
       "<PIL.PngImagePlugin.PngImageFile image mode=L size=106x106 at 0x249799DE400>"
      ]
     },
     "execution_count": 186,
     "metadata": {},
     "output_type": "execute_result"
    }
   ],
   "source": [
    "img"
   ]
  },
  {
   "cell_type": "code",
   "execution_count": 187,
   "metadata": {
    "ExecuteTime": {
     "end_time": "2021-06-04T10:53:04.422532Z",
     "start_time": "2021-06-04T10:53:04.414558Z"
    }
   },
   "outputs": [
    {
     "data": {
      "text/plain": [
       "array([[0, 0, 0, ..., 0, 0, 0],\n",
       "       [0, 0, 0, ..., 0, 0, 0],\n",
       "       [0, 0, 0, ..., 0, 0, 0],\n",
       "       ...,\n",
       "       [0, 0, 0, ..., 0, 0, 0],\n",
       "       [0, 0, 0, ..., 0, 0, 0],\n",
       "       [0, 0, 0, ..., 0, 0, 0]])"
      ]
     },
     "execution_count": 187,
     "metadata": {},
     "output_type": "execute_result"
    }
   ],
   "source": [
    "np.array(img.getdata()).reshape(106,106)"
   ]
  },
  {
   "cell_type": "code",
   "execution_count": 188,
   "metadata": {
    "ExecuteTime": {
     "end_time": "2021-06-04T10:53:05.000681Z",
     "start_time": "2021-06-04T10:53:04.967790Z"
    }
   },
   "outputs": [
    {
     "name": "stdout",
     "output_type": "stream",
     "text": [
      "[67 62 59 55]\n",
      "[67 62 59 55]\n",
      "[67 62 59 55]\n",
      "[67 62 59 55]\n",
      "[67 64 60 48]\n",
      "[67 64 60 48]\n",
      "[67 64 60 48]\n",
      "[67 64 60 48]\n",
      "[69 62 54 60]\n",
      "[69 62 54 60]\n",
      "[69 62 54 60]\n",
      "[69 62 54 60]\n",
      "[67 62 59 55]\n",
      "[67 62 59 55]\n",
      "[67 62 59 55]\n",
      "[67 62 59 55]\n",
      "[69 64 60 57]\n",
      "[69 64 60 57]\n",
      "[71 64 60 57]\n",
      "[71 64 60 57]\n",
      "[72 65 60 56]\n",
      "[72 65 60 56]\n",
      "[72 65 62 56]\n",
      "[72 65 62 56]\n",
      "[72 67 64 55]\n",
      "[72 67 64 55]\n",
      "[72 67 64 55]\n",
      "[72 67 64 55]\n",
      "[71 67 62 55]\n",
      "[71 67 62 55]\n",
      "[71 67 62 55]\n",
      "[71 67 62 55]\n",
      "[72 67 64 48]\n",
      "[72 67 64 48]\n",
      "[72 67 64 48]\n",
      "[72 67 64 48]\n",
      "[72 67 64 48]\n",
      "[72 67 64 48]\n",
      "[72 67 64 48]\n",
      "[72 67 64 48]\n",
      "[74 71 67 55]\n",
      "[74 71 67 55]\n",
      "[74 69 65 55]\n",
      "[74 69 65 55]\n",
      "[76 71 64 56]\n",
      "[76 71 64 56]\n",
      "[76 71 64 56]\n",
      "[76 71 64 56]\n",
      "[72 69 64 57]\n",
      "[72 69 64 57]\n",
      "[72 69 64 57]\n",
      "[72 69 64 57]\n",
      "[72 69 64 57]\n",
      "[72 69 64 57]\n",
      "[72 69 64 57]\n",
      "[72 69 64 57]\n",
      "[71 67 64 52]\n",
      "[71 67 64 52]\n",
      "[72 67 64 52]\n",
      "[72 67 64 52]\n",
      "[74 67 62 47]\n",
      "[74 67 62 47]\n",
      "[74 67 62 48]\n",
      "[74 67 62 48]\n",
      "[69 66 62 50]\n",
      "[69 66 62 50]\n",
      "[69 66 62 50]\n",
      "[69 66 62 50]\n",
      "[69 66 62 50]\n",
      "[69 66 62 50]\n",
      "[69 66 62 50]\n",
      "[69 66 62 50]\n",
      "[74 66 57 50]\n",
      "[74 66 57 50]\n",
      "[74 66 57 50]\n",
      "[74 66 57 50]\n",
      "[74 67 59 55]\n",
      "[74 67 59 55]\n",
      "[74 67 59 54]\n",
      "[74 67 59 54]\n",
      "[72 67 60 52]\n",
      "[72 67 60 52]\n",
      "[72 67 60 52]\n",
      "[72 67 60 52]\n",
      "[71 67 62 50]\n",
      "[71 67 62 50]\n",
      "[69 67 62 50]\n",
      "[69 67 62 50]\n",
      "[69 67 64 48]\n",
      "[69 67 64 48]\n",
      "[69 67 64 48]\n",
      "[69 67 64 48]\n",
      "[69 66 62 50]\n",
      "[69 66 62 50]\n",
      "[69 66 60 50]\n",
      "[69 66 60 50]\n",
      "[67 62 59 43]\n",
      "[67 62 59 43]\n",
      "[67 62 59 43]\n",
      "[67 62 59 43]\n",
      "[67 62 59 43]\n",
      "[67 62 59 43]\n",
      "[67 62 59 43]\n",
      "[67 62 59 43]\n",
      "[67 64 60 48]\n",
      "[67 64 60 48]\n",
      "[67 64 60 50]\n",
      "[67 64 60 50]\n",
      "[67 59 55 52]\n",
      "[67 59 55 52]\n",
      "[67 61 55 52]\n",
      "[67 61 55 52]\n",
      "[69 62 54 50]\n",
      "[69 62 54 50]\n",
      "[69 60 54 52]\n",
      "[69 60 54 52]\n",
      "[67 59 55 53]\n",
      "[67 59 55 53]\n",
      "[67 59 55 53]\n",
      "[67 59 55 53]\n",
      "[69 60 55 52]\n",
      "[69 60 55 52]\n",
      "[71 62 53 50]\n",
      "[71 62 53 50]\n",
      "[72 60 55 52]\n",
      "[72 60 55 52]\n",
      "[72 62 55 54]\n",
      "[72 62 55 54]\n",
      "[72 64 55 55]\n",
      "[72 64 55 55]\n",
      "[72 64 55 55]\n",
      "[72 64 55 55]\n",
      "[71 62 64 56]\n",
      "[71 62 64 56]\n",
      "[71 62 64 56]\n",
      "[71 62 64 56]\n",
      "[72 60 64 57]\n",
      "[72 60 64 57]\n",
      "[72 60 64 57]\n",
      "[72 60 64 57]\n",
      "[72 60 64 57]\n",
      "[72 60 64 57]\n",
      "[72 60 64 57]\n",
      "[72 60 64 57]\n",
      "[74 66 62 59]\n",
      "[74 66 62 59]\n",
      "[74 66 60 59]\n",
      "[74 66 60 59]\n",
      "[76 68 59 52]\n",
      "[76 68 59 52]\n",
      "[76 68 59 52]\n",
      "[76 68 59 52]\n",
      "[72 64 57 57]\n",
      "[72 64 57 57]\n",
      "[72 64 57 57]\n",
      "[72 64 57 57]\n",
      "[72 64 57 57]\n",
      "[72 64 57 57]\n",
      "[72 64 57 57]\n",
      "[72 64 57 57]\n",
      "[71 67 55 52]\n",
      "[71 67 55 52]\n",
      "[72 67 57 52]\n",
      "[72 67 57 52]\n",
      "[74 66 59 50]\n",
      "[74 66 59 50]\n",
      "[74 67 55 52]\n",
      "[74 67 55 52]\n",
      "[69 69 62 54]\n",
      "[69 69 62 54]\n",
      "[69 69 62 54]\n",
      "[69 69 62 54]\n",
      "[69 69 62 54]\n",
      "[69 69 62 54]\n",
      "[69 69 62 54]\n",
      "[69 69 62 54]\n",
      "[74 67 59 55]\n",
      "[74 67 59 55]\n",
      "[74 67 60 57]\n",
      "[74 67 60 57]\n",
      "[74 67 62 59]\n",
      "[74 67 62 59]\n",
      "[74 66 62 59]\n",
      "[74 66 62 59]\n",
      "[72 67 64 59]\n",
      "[72 67 64 59]\n",
      "[72 69 66 57]\n",
      "[72 69 66 57]\n",
      "[71 62 67 59]\n",
      "[71 62 67 59]\n",
      "[69 64 67 60]\n",
      "[69 64 67 60]\n",
      "[69 66 62 62]\n",
      "[69 66 62 62]\n",
      "[69 67 60 62]\n",
      "[69 67 59 62]\n",
      "[69 67 60 50]\n",
      "[69 67 60 50]\n",
      "[69 66 60 50]\n",
      "[69 66 60 50]\n",
      "[67 62 59 55]\n",
      "[67 62 59 55]\n",
      "[67 62 59 55]\n",
      "[67 62 59 55]\n",
      "[67 62 59 55]\n",
      "[67 62 59 55]\n",
      "[67 62 59 55]\n",
      "[67 62 59 55]\n"
     ]
    }
   ],
   "source": [
    "import pandas as pd\n",
    "os.chdir('C:\\\\Users\\\\v_sim\\\\Desktop\\\\Files\\\\Data\\\\jsb_chorales\\\\train')\n",
    "data = pd.read_csv('chorale_002.csv')\n",
    "\n",
    "notes = data.values\n",
    "\n",
    "import numpy as np\n",
    "img = np.zeros((len(data),106))\n",
    "for i in range(len(img)):\n",
    "    whites = notes[i]\n",
    "    print(whites)\n",
    "    for white in whites:\n",
    "        img[i][100-white] = 255\n",
    "    "
   ]
  },
  {
   "cell_type": "code",
   "execution_count": 189,
   "metadata": {
    "ExecuteTime": {
     "end_time": "2021-06-04T10:53:06.246346Z",
     "start_time": "2021-06-04T10:53:06.108799Z"
    }
   },
   "outputs": [
    {
     "data": {
      "text/plain": [
       "<matplotlib.image.AxesImage at 0x2497d68bd60>"
      ]
     },
     "execution_count": 189,
     "metadata": {},
     "output_type": "execute_result"
    },
    {
     "data": {
      "image/png": "[encoded data removed]",
      "text/plain": [
       "<Figure size 432x288 with 1 Axes>"
      ]
     },
     "metadata": {
      "needs_background": "light"
     },
     "output_type": "display_data"
    }
   ],
   "source": [
    "plt.imshow(np.rot90(img))"
   ]
  },
  {
   "cell_type": "code",
   "execution_count": 190,
   "metadata": {
    "ExecuteTime": {
     "end_time": "2021-06-04T10:53:08.285185Z",
     "start_time": "2021-06-04T10:53:08.258273Z"
    }
   },
   "outputs": [],
   "source": [
    "from PIL import Image\n",
    "os.chdir('C:\\\\Users\\\\v_sim\\\\Desktop')\n",
    "new_image = Image.fromarray(np.rot90(np.array(img)))\n",
    "new_image = new_image.convert(\"L\")\n",
    "new_image.save('composition.png')"
   ]
  },
  {
   "cell_type": "code",
   "execution_count": 191,
   "metadata": {
    "ExecuteTime": {
     "end_time": "2021-06-04T10:53:08.755531Z",
     "start_time": "2021-06-04T10:53:08.744563Z"
    }
   },
   "outputs": [],
   "source": [
    "def array2img(notes):\n",
    "    img = np.zeros((len(notes),106))\n",
    "    for i in range(len(img)):\n",
    "        whites = notes[i]\n",
    "        for white in whites:\n",
    "            if white != 0:\n",
    "                img[i][white] = 255\n",
    "    img = np.rot90(img)\n",
    "    return img"
   ]
  },
  {
   "cell_type": "code",
   "execution_count": null,
   "metadata": {
    "ExecuteTime": {
     "end_time": "2021-06-02T14:12:23.207106Z",
     "start_time": "2021-06-02T14:12:22.826076Z"
    }
   },
   "outputs": [],
   "source": [
    "from matplotlib import pyplot as plt\n",
    "save_img = np.rot90(img)\n",
    "plt.imshow(save_img, interpolation='nearest')\n",
    "plt.show()"
   ]
  },
  {
   "cell_type": "code",
   "execution_count": null,
   "metadata": {
    "ExecuteTime": {
     "end_time": "2021-06-02T14:12:43.588073Z",
     "start_time": "2021-06-02T14:12:43.573146Z"
    }
   },
   "outputs": [],
   "source": [
    "os.getcwd()"
   ]
  },
  {
   "cell_type": "markdown",
   "metadata": {},
   "source": [
    "# Data Processing"
   ]
  },
  {
   "cell_type": "markdown",
   "metadata": {},
   "source": [
    "## Data Access"
   ]
  },
  {
   "cell_type": "code",
   "execution_count": 206,
   "metadata": {
    "ExecuteTime": {
     "end_time": "2021-06-04T10:54:21.009505Z",
     "start_time": "2021-06-04T10:54:20.978594Z"
    }
   },
   "outputs": [],
   "source": [
    "import pickle\n",
    "import os\n",
    "\n",
    "os.chdir('C:\\\\Users\\\\v_sim\\\\Desktop\\\\Files\\\\Data\\\\jsb_chorales')\n",
    "with open('allchorales.pkl', 'rb') as f:\n",
    "    data = pickle.load(f)"
   ]
  },
  {
   "cell_type": "markdown",
   "metadata": {},
   "source": [
    "## Data Synthesis"
   ]
  },
  {
   "cell_type": "markdown",
   "metadata": {
    "ExecuteTime": {
     "end_time": "2021-06-02T13:04:55.875310Z",
     "start_time": "2021-06-02T13:04:55.847521Z"
    }
   },
   "source": [
    "### Failed"
   ]
  },
  {
   "cell_type": "code",
   "execution_count": null,
   "metadata": {
    "ExecuteTime": {
     "end_time": "2021-06-02T13:06:56.573612Z",
     "start_time": "2021-06-02T13:06:56.131350Z"
    }
   },
   "outputs": [],
   "source": [
    "import random\n",
    "corrupt_coeffecient = 0.8\n",
    "def generate_defects(original,corrupt_coeffecient):\n",
    "    mask = np.ones(len(original.flatten()))\n",
    "    values_to_change = []\n",
    "    len_corrupt = int(corrupt_coeffecient * len(original.flatten()))\n",
    "    for i in range(len_corrupt):\n",
    "        values_to_change.append(random.randint(1,len(original.flatten())-1))\n",
    "    for value in values_to_change:\n",
    "        mask[value] = 0\n",
    "    mask = mask.reshape(original.shape[0],original.shape[1])\n",
    "    return original*mask\n",
    "\n",
    "def array2img(notes):\n",
    "    img = np.zeros((len(notes),106))\n",
    "    for i in range(len(img)):\n",
    "        whites = notes[i]\n",
    "        for white in whites:\n",
    "            if white != 0:\n",
    "                img[i][int(white)] = 255\n",
    "    img = np.rot90(img)\n",
    "    return img\n",
    "\n",
    "defect = generate_defects(data[0],corrupt_coeffecient)\n",
    "img = array2img(defect)\n",
    "plt.imshow(img)\n",
    "\n",
    "new_image = Image.fromarray(np.array(img))\n",
    "new_image = new_image.convert(\"L\")\n",
    "new_image.save('composition.png')"
   ]
  },
  {
   "cell_type": "code",
   "execution_count": null,
   "metadata": {
    "ExecuteTime": {
     "end_time": "2021-06-02T12:53:06.103874Z",
     "start_time": "2021-06-02T12:53:06.084654Z"
    }
   },
   "outputs": [],
   "source": [
    "os.getcwd()"
   ]
  },
  {
   "cell_type": "code",
   "execution_count": null,
   "metadata": {
    "ExecuteTime": {
     "end_time": "2021-06-02T12:51:09.097811Z",
     "start_time": "2021-06-02T12:51:09.081192Z"
    }
   },
   "outputs": [],
   "source": [
    "corrupt_coeffecient * len(data[0].flatten())"
   ]
  },
  {
   "cell_type": "code",
   "execution_count": null,
   "metadata": {
    "ExecuteTime": {
     "end_time": "2021-06-02T12:49:53.890844Z",
     "start_time": "2021-06-02T12:49:53.430221Z"
    }
   },
   "outputs": [],
   "source": [
    "def array2img(notes):\n",
    "    img = np.zeros((len(notes),106))\n",
    "    for i in range(len(img)):\n",
    "        whites = notes[i]\n",
    "        for white in whites:\n",
    "            if white != 0:\n",
    "                img[i][int(white)] = 255\n",
    "    img = np.rot90(img)\n",
    "    return img\n",
    "img = array2img(defect)\n",
    "plt.imshow(img)"
   ]
  },
  {
   "cell_type": "code",
   "execution_count": null,
   "metadata": {
    "ExecuteTime": {
     "end_time": "2021-06-02T12:40:45.857122Z",
     "start_time": "2021-06-02T12:40:45.842116Z"
    }
   },
   "outputs": [],
   "source": [
    "int(corrupt_coeffecient * len(data[0].flatten()))"
   ]
  },
  {
   "cell_type": "markdown",
   "metadata": {},
   "source": [
    "### Working"
   ]
  },
  {
   "cell_type": "markdown",
   "metadata": {},
   "source": [
    "#### Block Strat"
   ]
  },
  {
   "cell_type": "code",
   "execution_count": 461,
   "metadata": {
    "ExecuteTime": {
     "end_time": "2021-06-05T14:40:09.592515Z",
     "start_time": "2021-06-05T14:40:09.542652Z"
    }
   },
   "outputs": [],
   "source": [
    "import pickle\n",
    "import os\n",
    "\n",
    "os.chdir('C:\\\\Users\\\\v_sim\\\\Desktop\\\\Files\\\\Data\\\\jsb_chorales')\n",
    "with open('allchorales.pkl', 'rb') as f:\n",
    "    data = pickle.load(f)"
   ]
  },
  {
   "cell_type": "code",
   "execution_count": 462,
   "metadata": {
    "ExecuteTime": {
     "end_time": "2021-06-05T14:40:10.059918Z",
     "start_time": "2021-06-05T14:40:10.041034Z"
    }
   },
   "outputs": [
    {
     "data": {
      "text/plain": [
       "[array([[74, 70, 65, 58],\n",
       "        [74, 70, 65, 58],\n",
       "        [74, 70, 65, 58],\n",
       "        [74, 70, 65, 58],\n",
       "        [75, 70, 58, 55],\n",
       "        [75, 70, 58, 55],\n",
       "        [75, 70, 60, 55],\n",
       "        [75, 70, 60, 55],\n",
       "        [77, 69, 62, 50],\n",
       "        [77, 69, 62, 50],\n",
       "        [77, 69, 62, 50],\n",
       "        [77, 69, 62, 50],\n",
       "        [77, 70, 62, 55],\n",
       "        [77, 70, 62, 55],\n",
       "        [77, 69, 62, 55],\n",
       "        [77, 69, 62, 55],\n",
       "        [75, 67, 63, 48],\n",
       "        [75, 67, 63, 48],\n",
       "        [75, 69, 63, 48],\n",
       "        [75, 69, 63, 48],\n",
       "        [74, 70, 65, 46],\n",
       "        [74, 70, 65, 46],\n",
       "        [74, 70, 65, 46],\n",
       "        [74, 70, 65, 46],\n",
       "        [72, 69, 65, 53],\n",
       "        [72, 69, 65, 53],\n",
       "        [72, 69, 65, 53],\n",
       "        [72, 69, 65, 53],\n",
       "        [72, 69, 65, 53],\n",
       "        [72, 69, 65, 53],\n",
       "        [72, 69, 65, 53],\n",
       "        [72, 69, 65, 53],\n",
       "        [74, 70, 65, 46],\n",
       "        [74, 70, 65, 46],\n",
       "        [74, 70, 65, 46],\n",
       "        [74, 70, 65, 46],\n",
       "        [75, 69, 63, 48],\n",
       "        [75, 69, 63, 48],\n",
       "        [75, 67, 63, 48],\n",
       "        [75, 67, 63, 48],\n",
       "        [77, 65, 62, 50],\n",
       "        [77, 65, 62, 50],\n",
       "        [77, 65, 60, 50],\n",
       "        [77, 65, 60, 50],\n",
       "        [74, 67, 58, 55],\n",
       "        [74, 67, 58, 55],\n",
       "        [74, 67, 58, 53],\n",
       "        [74, 67, 58, 53],\n",
       "        [72, 67, 58, 51],\n",
       "        [72, 67, 58, 51],\n",
       "        [72, 67, 58, 51],\n",
       "        [72, 67, 58, 51],\n",
       "        [72, 65, 57, 53],\n",
       "        [72, 65, 57, 53],\n",
       "        [72, 65, 57, 53],\n",
       "        [72, 65, 57, 53],\n",
       "        [70, 65, 62, 46],\n",
       "        [70, 65, 62, 46],\n",
       "        [70, 65, 62, 46],\n",
       "        [70, 65, 62, 46],\n",
       "        [70, 65, 62, 46],\n",
       "        [70, 65, 62, 46],\n",
       "        [70, 65, 62, 46],\n",
       "        [70, 65, 62, 46],\n",
       "        [72, 69, 65, 53],\n",
       "        [72, 69, 65, 53],\n",
       "        [72, 69, 65, 53],\n",
       "        [72, 69, 65, 53],\n",
       "        [74, 71, 53, 50],\n",
       "        [74, 71, 53, 50],\n",
       "        [74, 71, 53, 50],\n",
       "        [74, 71, 53, 50],\n",
       "        [75, 72, 55, 48],\n",
       "        [75, 72, 55, 48],\n",
       "        [75, 72, 55, 50],\n",
       "        [75, 72, 55, 50],\n",
       "        [75, 67, 60, 51],\n",
       "        [75, 67, 60, 51],\n",
       "        [75, 67, 60, 53],\n",
       "        [75, 67, 60, 53],\n",
       "        [74, 67, 60, 55],\n",
       "        [74, 67, 60, 55],\n",
       "        [74, 67, 57, 55],\n",
       "        [74, 67, 57, 55],\n",
       "        [74, 65, 59, 43],\n",
       "        [74, 65, 59, 43],\n",
       "        [72, 63, 59, 43],\n",
       "        [72, 63, 59, 43],\n",
       "        [72, 63, 55, 48],\n",
       "        [72, 63, 55, 48],\n",
       "        [72, 63, 55, 48],\n",
       "        [72, 63, 55, 48],\n",
       "        [72, 63, 55, 48],\n",
       "        [72, 63, 55, 48],\n",
       "        [72, 63, 55, 48],\n",
       "        [72, 63, 55, 48],\n",
       "        [75, 67, 60, 60],\n",
       "        [75, 67, 60, 60],\n",
       "        [75, 67, 60, 60],\n",
       "        [75, 67, 60, 60],\n",
       "        [77, 70, 62, 58],\n",
       "        [77, 70, 62, 58],\n",
       "        [77, 70, 62, 56],\n",
       "        [77, 70, 62, 56],\n",
       "        [79, 70, 62, 55],\n",
       "        [79, 70, 62, 55]], dtype=int64)]"
      ]
     },
     "execution_count": 462,
     "metadata": {},
     "output_type": "execute_result"
    }
   ],
   "source": [
    "data[0]"
   ]
  },
  {
   "cell_type": "code",
   "execution_count": 463,
   "metadata": {
    "ExecuteTime": {
     "end_time": "2021-06-05T14:40:10.869843Z",
     "start_time": "2021-06-05T14:40:10.694413Z"
    }
   },
   "outputs": [
    {
     "data": {
      "text/plain": [
       "<matplotlib.image.AxesImage at 0x2498770e640>"
      ]
     },
     "execution_count": 463,
     "metadata": {},
     "output_type": "execute_result"
    },
    {
     "data": {
      "image/png": "[encoded data removed]",
      "text/plain": [
       "<Figure size 432x288 with 1 Axes>"
      ]
     },
     "metadata": {
      "needs_background": "light"
     },
     "output_type": "display_data"
    }
   ],
   "source": [
    "def generate_block_defects(original,corrupt_coeffecient,block_size):\n",
    "    clone = original.copy()\n",
    "    for i in range(len(original)):\n",
    "        if i >= len(original)-block_size:\n",
    "            break\n",
    "        if random.randint(1,10) > corrupt_coeffecient*10:\n",
    "            for x in range(block_size):\n",
    "                for channel in range(4):\n",
    "                    clone[i+x][channel] = 0\n",
    "    return clone\n",
    "                \n",
    "defect = generate_block_defects(data[0][0],0.9,7)\n",
    "os.chdir('C:\\\\Users\\\\v_sim\\\\Desktop')\n",
    "img = array2img(defect)\n",
    "plt.imshow(img)"
   ]
  },
  {
   "cell_type": "code",
   "execution_count": 464,
   "metadata": {
    "ExecuteTime": {
     "end_time": "2021-06-05T14:40:12.476097Z",
     "start_time": "2021-06-05T14:40:12.454202Z"
    }
   },
   "outputs": [
    {
     "data": {
      "text/plain": [
       "(1, 106, 4)"
      ]
     },
     "execution_count": 464,
     "metadata": {},
     "output_type": "execute_result"
    }
   ],
   "source": [
    "np.array(data[0]).shape"
   ]
  },
  {
   "cell_type": "code",
   "execution_count": 482,
   "metadata": {
    "ExecuteTime": {
     "end_time": "2021-06-05T14:46:58.316297Z",
     "start_time": "2021-06-05T14:46:49.142513Z"
    }
   },
   "outputs": [],
   "source": [
    "block_cut_data = []\n",
    "while len(block_cut_data) < 10000:\n",
    "    randint1 = random.randint(0,len(data)-1)\n",
    "    randint2 = random.randint(0,len(data[randint1])-1)\n",
    "    defect = generate_block_defects(data[randint1][randint2],0.9,7)\n",
    "    \n",
    "    true_img = array2img(data[randint1][randint2])\n",
    "    defect_img = array2img(defect)\n",
    "    \n",
    "    block_cut_data.append([defect,data[randint1][randint2]])"
   ]
  },
  {
   "cell_type": "code",
   "execution_count": 483,
   "metadata": {
    "ExecuteTime": {
     "end_time": "2021-06-05T14:47:01.416551Z",
     "start_time": "2021-06-05T14:47:01.411243Z"
    }
   },
   "outputs": [
    {
     "data": {
      "text/plain": [
       "(106, 4)"
      ]
     },
     "execution_count": 483,
     "metadata": {},
     "output_type": "execute_result"
    }
   ],
   "source": [
    "np.array(defect).shape"
   ]
  },
  {
   "cell_type": "code",
   "execution_count": 484,
   "metadata": {
    "ExecuteTime": {
     "end_time": "2021-06-05T14:47:02.017202Z",
     "start_time": "2021-06-05T14:47:01.870695Z"
    }
   },
   "outputs": [
    {
     "data": {
      "text/plain": [
       "<matplotlib.image.AxesImage at 0x249b4632f40>"
      ]
     },
     "execution_count": 484,
     "metadata": {},
     "output_type": "execute_result"
    },
    {
     "data": {
      "image/png": "[encoded data removed]",
      "text/plain": [
       "<Figure size 432x288 with 1 Axes>"
      ]
     },
     "metadata": {
      "needs_background": "light"
     },
     "output_type": "display_data"
    }
   ],
   "source": [
    "plt.imshow(true_img)"
   ]
  },
  {
   "cell_type": "code",
   "execution_count": 485,
   "metadata": {
    "ExecuteTime": {
     "end_time": "2021-06-05T14:47:02.555398Z",
     "start_time": "2021-06-05T14:47:02.422841Z"
    }
   },
   "outputs": [
    {
     "data": {
      "text/plain": [
       "<matplotlib.image.AxesImage at 0x249b68235e0>"
      ]
     },
     "execution_count": 485,
     "metadata": {},
     "output_type": "execute_result"
    },
    {
     "data": {
      "image/png": "[encoded data removed]",
      "text/plain": [
       "<Figure size 432x288 with 1 Axes>"
      ]
     },
     "metadata": {
      "needs_background": "light"
     },
     "output_type": "display_data"
    }
   ],
   "source": [
    "plt.imshow(defect_img)"
   ]
  },
  {
   "cell_type": "code",
   "execution_count": 486,
   "metadata": {
    "ExecuteTime": {
     "end_time": "2021-06-05T14:47:03.367417Z",
     "start_time": "2021-06-05T14:47:03.362433Z"
    }
   },
   "outputs": [
    {
     "data": {
      "text/plain": [
       "((106, 4), (106, 4))"
      ]
     },
     "execution_count": 486,
     "metadata": {},
     "output_type": "execute_result"
    }
   ],
   "source": [
    "np.array(block_cut_data[0][0]).shape,np.array(block_cut_data[0][1]).shape"
   ]
  },
  {
   "cell_type": "code",
   "execution_count": 487,
   "metadata": {
    "ExecuteTime": {
     "end_time": "2021-06-05T14:47:04.587451Z",
     "start_time": "2021-06-05T14:47:04.504211Z"
    }
   },
   "outputs": [],
   "source": [
    "import pickle\n",
    "os.chdir('C:\\\\Users\\\\v_sim\\\\Desktop\\\\Files\\\\Data\\\\jsb_chorales')\n",
    "with open('block_cut_data.pkl', 'wb') as f:\n",
    "    pickle.dump(block_cut_data, f)"
   ]
  },
  {
   "cell_type": "markdown",
   "metadata": {
    "heading_collapsed": true
   },
   "source": [
    "####  Line by Line Strat"
   ]
  },
  {
   "cell_type": "code",
   "execution_count": 226,
   "metadata": {
    "ExecuteTime": {
     "end_time": "2021-06-04T10:56:09.820944Z",
     "start_time": "2021-06-04T10:56:09.810910Z"
    },
    "hidden": true
   },
   "outputs": [],
   "source": [
    "import pickle\n",
    "import os\n",
    "\n",
    "os.chdir('C:\\\\Users\\\\v_sim\\\\Desktop\\\\Files\\\\Data\\\\jsb_chorales')\n",
    "with open('allchorales.pkl', 'rb') as f:\n",
    "    data = pickle.load(f)"
   ]
  },
  {
   "cell_type": "code",
   "execution_count": 227,
   "metadata": {
    "ExecuteTime": {
     "end_time": "2021-06-04T10:56:10.488508Z",
     "start_time": "2021-06-04T10:56:10.359943Z"
    },
    "hidden": true
   },
   "outputs": [
    {
     "data": {
      "text/plain": [
       "<matplotlib.image.AxesImage at 0x249798de7f0>"
      ]
     },
     "execution_count": 227,
     "metadata": {},
     "output_type": "execute_result"
    },
    {
     "data": {
      "image/png": "[encoded data removed]",
      "text/plain": [
       "<Figure size 432x288 with 1 Axes>"
      ]
     },
     "metadata": {
      "needs_background": "light"
     },
     "output_type": "display_data"
    }
   ],
   "source": [
    "line_n = 3\n",
    "def generate_line_defects(original,line_n):\n",
    "    clone = original.copy()\n",
    "    line = []\n",
    "    for i in range(len(original)):\n",
    "        notes = [0,0,0]\n",
    "        notes.insert(line_n,clone[i][line_n])\n",
    "        line.append(notes)\n",
    "    return np.array(line)\n",
    "                \n",
    "defect = generate_line_defects(data[1][1],line_n)\n",
    "img = array2img(defect)\n",
    "plt.imshow(img)"
   ]
  },
  {
   "cell_type": "code",
   "execution_count": 232,
   "metadata": {
    "ExecuteTime": {
     "end_time": "2021-06-04T10:58:45.343243Z",
     "start_time": "2021-06-04T10:58:28.346608Z"
    },
    "hidden": true
   },
   "outputs": [
    {
     "name": "stdout",
     "output_type": "stream",
     "text": [
      "0\n",
      "1\n",
      "2\n",
      "3\n"
     ]
    }
   ],
   "source": [
    "for line_n in range(4):\n",
    "\n",
    "    line_cut_data = []\n",
    "    while len(line_cut_data) < 5000:\n",
    "        randint1 = random.randint(0,len(data)-1)\n",
    "        randint2 = random.randint(0,len(data[randint1])-1)\n",
    "        defect = generate_line_defects(data[randint1][randint2],line_n)\n",
    "\n",
    "        true_img = array2img(data[randint1][randint2])\n",
    "        defect_img = array2img(defect)\n",
    "        line_cut_data.append([defect,data[randint1][randint2]])\n",
    "    \n",
    "    import pickle\n",
    "    os.chdir('C:\\\\Users\\\\v_sim\\\\Desktop\\\\Files\\\\Data\\\\jsb_chorales')\n",
    "    with open('line_data'+str(line_n)+'.pkl', 'wb') as f:\n",
    "        pickle.dump(line_cut_data, f)\n",
    "    print(line_n)"
   ]
  },
  {
   "cell_type": "code",
   "execution_count": 233,
   "metadata": {
    "ExecuteTime": {
     "end_time": "2021-06-04T10:59:18.973746Z",
     "start_time": "2021-06-04T10:59:18.827710Z"
    },
    "hidden": true
   },
   "outputs": [
    {
     "data": {
      "text/plain": [
       "<matplotlib.image.AxesImage at 0x2497a60afa0>"
      ]
     },
     "execution_count": 233,
     "metadata": {},
     "output_type": "execute_result"
    },
    {
     "data": {
      "image/png": "[encoded data removed]",
      "text/plain": [
       "<Figure size 432x288 with 1 Axes>"
      ]
     },
     "metadata": {
      "needs_background": "light"
     },
     "output_type": "display_data"
    }
   ],
   "source": [
    "plt.imshow(true_img)"
   ]
  },
  {
   "cell_type": "code",
   "execution_count": 234,
   "metadata": {
    "ExecuteTime": {
     "end_time": "2021-06-04T10:59:19.456260Z",
     "start_time": "2021-06-04T10:59:19.325692Z"
    },
    "hidden": true
   },
   "outputs": [
    {
     "data": {
      "text/plain": [
       "<matplotlib.image.AxesImage at 0x2497d04d370>"
      ]
     },
     "execution_count": 234,
     "metadata": {},
     "output_type": "execute_result"
    },
    {
     "data": {
      "image/png": "[encoded data removed]",
      "text/plain": [
       "<Figure size 432x288 with 1 Axes>"
      ]
     },
     "metadata": {
      "needs_background": "light"
     },
     "output_type": "display_data"
    }
   ],
   "source": [
    "plt.imshow(defect_img)"
   ]
  },
  {
   "cell_type": "code",
   "execution_count": 235,
   "metadata": {
    "ExecuteTime": {
     "end_time": "2021-06-04T10:59:21.661528Z",
     "start_time": "2021-06-04T10:59:21.655571Z"
    },
    "hidden": true
   },
   "outputs": [
    {
     "data": {
      "text/plain": [
       "((106, 106), (106, 106))"
      ]
     },
     "execution_count": 235,
     "metadata": {},
     "output_type": "execute_result"
    }
   ],
   "source": [
    "true_img.shape,defect_img.shape"
   ]
  },
  {
   "cell_type": "markdown",
   "metadata": {},
   "source": [
    "# Models"
   ]
  },
  {
   "cell_type": "markdown",
   "metadata": {},
   "source": [
    "## Data Loading"
   ]
  },
  {
   "cell_type": "code",
   "execution_count": 244,
   "metadata": {
    "ExecuteTime": {
     "end_time": "2021-06-04T11:06:06.389603Z",
     "start_time": "2021-06-04T11:06:06.349717Z"
    }
   },
   "outputs": [],
   "source": [
    "import pickle\n",
    "import os\n",
    "\n",
    "os.chdir('C:\\\\Users\\\\v_sim\\\\Desktop\\\\Files\\\\Data\\\\jsb_chorales')\n",
    "with open('block_cut_data.pkl', 'rb') as f:\n",
    "    block_data = pickle.load(f)"
   ]
  },
  {
   "cell_type": "code",
   "execution_count": 249,
   "metadata": {
    "ExecuteTime": {
     "end_time": "2021-06-04T11:09:34.276558Z",
     "start_time": "2021-06-04T11:09:34.240736Z"
    }
   },
   "outputs": [],
   "source": [
    "X_block = []\n",
    "y_block = []\n",
    "for i in range(len(block_data)):\n",
    "    X_block.append(block_data[i][0])\n",
    "    y_block.append(block_data[i][1])\n",
    "    \n",
    "X_block = np.array(X_block)\n",
    "y_block = np.array(y_block)"
   ]
  },
  {
   "cell_type": "code",
   "execution_count": 250,
   "metadata": {
    "ExecuteTime": {
     "end_time": "2021-06-04T11:09:38.879655Z",
     "start_time": "2021-06-04T11:09:38.859721Z"
    }
   },
   "outputs": [
    {
     "data": {
      "text/plain": [
       "((5000, 106, 4), (5000, 106, 4))"
      ]
     },
     "execution_count": 250,
     "metadata": {},
     "output_type": "execute_result"
    }
   ],
   "source": [
    "np.array(X_block).shape,np.array(y_block).shape"
   ]
  },
  {
   "cell_type": "code",
   "execution_count": 333,
   "metadata": {
    "ExecuteTime": {
     "end_time": "2021-06-04T12:35:12.462743Z",
     "start_time": "2021-06-04T12:35:12.118847Z"
    }
   },
   "outputs": [],
   "source": [
    "import pickle\n",
    "import os\n",
    "\n",
    "os.chdir('C:\\\\Users\\\\v_sim\\\\Desktop\\\\Files\\\\Data\\\\jsb_chorales')\n",
    "with open('line_data0.pkl', 'rb') as f:\n",
    "    line_data0 = pickle.load(f)\n",
    "    \n",
    "with open('line_data1.pkl', 'rb') as f:\n",
    "    line_data1 = pickle.load(f)\n",
    "    \n",
    "with open('line_data2.pkl', 'rb') as f:\n",
    "    line_data2 = pickle.load(f)\n",
    "    \n",
    "with open('line_data3.pkl', 'rb') as f:\n",
    "    line_data3 = pickle.load(f)"
   ]
  },
  {
   "cell_type": "code",
   "execution_count": 334,
   "metadata": {
    "ExecuteTime": {
     "end_time": "2021-06-04T12:37:04.118692Z",
     "start_time": "2021-06-04T12:37:04.060743Z"
    }
   },
   "outputs": [],
   "source": [
    "X_line0 = []\n",
    "y_line0 = []\n",
    "for i in range(len(line_data0)):\n",
    "    X_line0.append(line_data0[i][0])\n",
    "    y_line0.append(line_data0[i][1])\n",
    "    \n",
    "X_line0 = np.array(X_line0)\n",
    "y_line0 = np.array(y_line0)"
   ]
  },
  {
   "cell_type": "code",
   "execution_count": 335,
   "metadata": {
    "ExecuteTime": {
     "end_time": "2021-06-04T12:37:05.370496Z",
     "start_time": "2021-06-04T12:37:05.310295Z"
    }
   },
   "outputs": [],
   "source": [
    "X_line1 = []\n",
    "y_line1 = []\n",
    "for i in range(len(line_data1)):\n",
    "    X_line1.append(line_data1[i][0])\n",
    "    y_line1.append(line_data1[i][1])\n",
    "    \n",
    "X_line1 = np.array(X_line1)\n",
    "y_line1 = np.array(y_line1)"
   ]
  },
  {
   "cell_type": "code",
   "execution_count": 336,
   "metadata": {
    "ExecuteTime": {
     "end_time": "2021-06-04T12:37:24.195842Z",
     "start_time": "2021-06-04T12:37:24.130781Z"
    }
   },
   "outputs": [],
   "source": [
    "X_line2 = []\n",
    "y_line2 = []\n",
    "for i in range(len(line_data2)):\n",
    "    X_line2.append(line_data2[i][0])\n",
    "    y_line2.append(line_data2[i][1])\n",
    "    \n",
    "X_line2 = np.array(X_line2)\n",
    "y_line2 = np.array(y_line2)"
   ]
  },
  {
   "cell_type": "code",
   "execution_count": 337,
   "metadata": {
    "ExecuteTime": {
     "end_time": "2021-06-04T12:37:33.416845Z",
     "start_time": "2021-06-04T12:37:33.360856Z"
    }
   },
   "outputs": [],
   "source": [
    "X_line3 = []\n",
    "y_line3 = []\n",
    "for i in range(len(line_data3)):\n",
    "    X_line3.append(line_data3[i][0])\n",
    "    y_line3.append(line_data3[i][1])\n",
    "    \n",
    "X_line3 = np.array(X_line3)\n",
    "y_line3 = np.array(y_line3)"
   ]
  },
  {
   "cell_type": "code",
   "execution_count": 331,
   "metadata": {
    "ExecuteTime": {
     "end_time": "2021-06-04T12:19:16.673377Z",
     "start_time": "2021-06-04T12:19:13.820085Z"
    }
   },
   "outputs": [],
   "source": [
    "pred = model.predict(X_block)\n",
    "round_pred = np.around(pred).astype(int)\n",
    "\n",
    "def fill_in_block(original,pred):\n",
    "    colour_list = []\n",
    "    original_copy = original.copy()\n",
    "    for i in range(len(original)):\n",
    "        if (original_copy[i]==[0,0,0,0]).all():\n",
    "            original_copy[i] = pred[i]\n",
    "            colour_list.append(100)\n",
    "        else:\n",
    "            colour_list.append(255)\n",
    "    return original_copy,colour_list\n",
    "\n",
    "def array2img_analysis(notes,colour_list):\n",
    "    img = np.zeros((len(notes),106))\n",
    "    for i in range(len(img)):\n",
    "        whites = notes[i]\n",
    "        for white in whites:\n",
    "            if white != 0:\n",
    "                img[i][white] = colour_list[i]\n",
    "    img = np.rot90(img)\n",
    "    return img"
   ]
  },
  {
   "cell_type": "markdown",
   "metadata": {
    "heading_collapsed": true
   },
   "source": [
    "## Baseline Model"
   ]
  },
  {
   "cell_type": "code",
   "execution_count": 311,
   "metadata": {
    "ExecuteTime": {
     "end_time": "2021-06-04T11:59:19.233859Z",
     "start_time": "2021-06-04T11:59:19.214128Z"
    },
    "hidden": true
   },
   "outputs": [],
   "source": [
    "from keras.models import Sequential\n",
    "from keras.layers import Dense\n",
    "from keras.layers import Dropout\n",
    "from keras.layers import Flatten"
   ]
  },
  {
   "cell_type": "code",
   "execution_count": 332,
   "metadata": {
    "ExecuteTime": {
     "end_time": "2021-06-04T12:33:54.070612Z",
     "start_time": "2021-06-04T12:33:53.663767Z"
    },
    "hidden": true
   },
   "outputs": [
    {
     "name": "stdout",
     "output_type": "stream",
     "text": [
      "Model: \"sequential_14\"\n",
      "_________________________________________________________________\n",
      "Layer (type)                 Output Shape              Param #   \n",
      "=================================================================\n",
      "dense_29 (Dense)             (None, 106, 100)          500       \n",
      "_________________________________________________________________\n",
      "dense_30 (Dense)             (None, 106, 100)          10100     \n",
      "_________________________________________________________________\n",
      "dense_31 (Dense)             (None, 106, 100)          10100     \n",
      "_________________________________________________________________\n",
      "dense_32 (Dense)             (None, 106, 100)          10100     \n",
      "_________________________________________________________________\n",
      "dense_33 (Dense)             (None, 106, 100)          10100     \n",
      "_________________________________________________________________\n",
      "dense_34 (Dense)             (None, 106, 100)          10100     \n",
      "_________________________________________________________________\n",
      "dense_35 (Dense)             (None, 106, 4)            404       \n",
      "=================================================================\n",
      "Total params: 51,404\n",
      "Trainable params: 51,404\n",
      "Non-trainable params: 0\n",
      "_________________________________________________________________\n"
     ]
    }
   ],
   "source": [
    "model = Sequential()\n",
    "model.add(Dense(100,input_shape = (106,4)))\n",
    "model.add(Dense(100,activation = 'relu'))\n",
    "model.add(Dense(100,activation = 'relu'))\n",
    "model.add(Dense(100,activation = 'relu'))\n",
    "model.add(Dense(100,activation = 'relu'))\n",
    "model.add(Dense(100,activation = 'relu'))\n",
    "model.add(Dense(4))\n",
    "\n",
    "model.compile(loss = 'mse', optimizer = 'adam')\n",
    "model.summary()"
   ]
  },
  {
   "cell_type": "markdown",
   "metadata": {
    "hidden": true
   },
   "source": [
    "Report: Keep Predicting same values, might use dropout to see effect"
   ]
  },
  {
   "cell_type": "markdown",
   "metadata": {
    "heading_collapsed": true
   },
   "source": [
    "## Dropout Dense"
   ]
  },
  {
   "cell_type": "code",
   "execution_count": 360,
   "metadata": {
    "ExecuteTime": {
     "end_time": "2021-06-04T21:09:03.868515Z",
     "start_time": "2021-06-04T21:09:03.861218Z"
    },
    "hidden": true
   },
   "outputs": [],
   "source": [
    "from keras.models import Sequential\n",
    "from keras.layers import Dense\n",
    "from keras.layers import Dropout\n",
    "from keras.layers import Flatten"
   ]
  },
  {
   "cell_type": "code",
   "execution_count": 361,
   "metadata": {
    "ExecuteTime": {
     "end_time": "2021-06-04T21:09:18.039197Z",
     "start_time": "2021-06-04T21:09:17.871801Z"
    },
    "hidden": true
   },
   "outputs": [
    {
     "name": "stdout",
     "output_type": "stream",
     "text": [
      "Model: \"sequential_15\"\n",
      "_________________________________________________________________\n",
      "Layer (type)                 Output Shape              Param #   \n",
      "=================================================================\n",
      "dense_36 (Dense)             (None, 106, 100)          500       \n",
      "_________________________________________________________________\n",
      "dense_37 (Dense)             (None, 106, 100)          10100     \n",
      "_________________________________________________________________\n",
      "dropout_54 (Dropout)         (None, 106, 100)          0         \n",
      "_________________________________________________________________\n",
      "dense_38 (Dense)             (None, 106, 100)          10100     \n",
      "_________________________________________________________________\n",
      "dropout_55 (Dropout)         (None, 106, 100)          0         \n",
      "_________________________________________________________________\n",
      "dense_39 (Dense)             (None, 106, 100)          10100     \n",
      "_________________________________________________________________\n",
      "dropout_56 (Dropout)         (None, 106, 100)          0         \n",
      "_________________________________________________________________\n",
      "dense_40 (Dense)             (None, 106, 100)          10100     \n",
      "_________________________________________________________________\n",
      "dropout_57 (Dropout)         (None, 106, 100)          0         \n",
      "_________________________________________________________________\n",
      "dense_41 (Dense)             (None, 106, 100)          10100     \n",
      "_________________________________________________________________\n",
      "dense_42 (Dense)             (None, 106, 4)            404       \n",
      "=================================================================\n",
      "Total params: 51,404\n",
      "Trainable params: 51,404\n",
      "Non-trainable params: 0\n",
      "_________________________________________________________________\n"
     ]
    }
   ],
   "source": [
    "model = Sequential()\n",
    "model.add(Dense(100,input_shape = (106,4)))\n",
    "model.add(Dense(100,activation = 'relu'))\n",
    "model.add(Dropout(0.4))\n",
    "model.add(Dense(100,activation = 'relu'))\n",
    "model.add(Dropout(0.4))\n",
    "model.add(Dense(100,activation = 'relu'))\n",
    "model.add(Dropout(0.4))\n",
    "model.add(Dense(100,activation = 'relu'))\n",
    "model.add(Dropout(0.4))\n",
    "model.add(Dense(100,activation = 'relu'))\n",
    "model.add(Dense(4))\n",
    "\n",
    "model.compile(loss = 'mse', optimizer = 'adam')\n",
    "model.summary()"
   ]
  },
  {
   "cell_type": "markdown",
   "metadata": {
    "hidden": true
   },
   "source": [
    "Report: Even worse results, dropout slows learning, results in no learning at all."
   ]
  },
  {
   "cell_type": "markdown",
   "metadata": {},
   "source": [
    "## Conv1D"
   ]
  },
  {
   "cell_type": "code",
   "execution_count": 388,
   "metadata": {
    "ExecuteTime": {
     "end_time": "2021-06-04T21:20:24.165386Z",
     "start_time": "2021-06-04T21:20:24.149440Z"
    }
   },
   "outputs": [],
   "source": [
    "from keras.models import Sequential\n",
    "from keras.layers import Dense,Reshape\n",
    "from keras.layers import Dropout\n",
    "from keras.layers import Flatten\n",
    "from keras.layers import Conv1D,MaxPooling1D"
   ]
  },
  {
   "cell_type": "code",
   "execution_count": 459,
   "metadata": {
    "ExecuteTime": {
     "end_time": "2021-06-05T13:07:16.876005Z",
     "start_time": "2021-06-05T13:07:16.741497Z"
    }
   },
   "outputs": [
    {
     "name": "stdout",
     "output_type": "stream",
     "text": [
      "Model: \"sequential_52\"\n",
      "_________________________________________________________________\n",
      "Layer (type)                 Output Shape              Param #   \n",
      "=================================================================\n",
      "conv1d_130 (Conv1D)          (None, 103, 64)           1088      \n",
      "_________________________________________________________________\n",
      "conv1d_131 (Conv1D)          (None, 100, 128)          32896     \n",
      "_________________________________________________________________\n",
      "max_pooling1d_94 (MaxPooling (None, 50, 128)           0         \n",
      "_________________________________________________________________\n",
      "conv1d_132 (Conv1D)          (None, 47, 256)           131328    \n",
      "_________________________________________________________________\n",
      "max_pooling1d_95 (MaxPooling (None, 23, 256)           0         \n",
      "_________________________________________________________________\n",
      "conv1d_133 (Conv1D)          (None, 20, 512)           524800    \n",
      "_________________________________________________________________\n",
      "max_pooling1d_96 (MaxPooling (None, 10, 512)           0         \n",
      "_________________________________________________________________\n",
      "conv1d_134 (Conv1D)          (None, 8, 512)            786944    \n",
      "_________________________________________________________________\n",
      "max_pooling1d_97 (MaxPooling (None, 4, 512)            0         \n",
      "_________________________________________________________________\n",
      "dense_88 (Dense)             (None, 4, 106)            54378     \n",
      "_________________________________________________________________\n",
      "reshape_7 (Reshape)          (None, 106, 4)            0         \n",
      "=================================================================\n",
      "Total params: 1,531,434\n",
      "Trainable params: 1,531,434\n",
      "Non-trainable params: 0\n",
      "_________________________________________________________________\n"
     ]
    }
   ],
   "source": [
    "model = Sequential()\n",
    "model.add(Conv1D(filters = 64,kernel_size = 4,input_shape = (106,4)))\n",
    "model.add(Conv1D(filters = 128,kernel_size = 4,activation = 'relu'))\n",
    "model.add(MaxPooling1D())\n",
    "model.add(Conv1D(filters = 256,kernel_size = 4,activation = 'relu'))\n",
    "model.add(MaxPooling1D())\n",
    "model.add(Conv1D(filters = 512,kernel_size = 4,activation = 'relu'))\n",
    "model.add(MaxPooling1D())\n",
    "model.add(Conv1D(filters = 512,kernel_size = 3,activation = 'relu'))\n",
    "model.add(MaxPooling1D())\n",
    "model.add(Dense(106,activation = 'relu'))\n",
    "model.add(Reshape((106,4)))\n",
    "\n",
    "\n",
    "model.compile(loss = 'mse', optimizer = 'adam')\n",
    "model.summary()"
   ]
  },
  {
   "cell_type": "markdown",
   "metadata": {},
   "source": [
    "## Result"
   ]
  },
  {
   "cell_type": "code",
   "execution_count": 460,
   "metadata": {
    "ExecuteTime": {
     "end_time": "2021-06-05T13:32:04.386381Z",
     "start_time": "2021-06-05T13:07:21.349865Z"
    }
   },
   "outputs": [
    {
     "name": "stdout",
     "output_type": "stream",
     "text": [
      "Epoch 1/100\n",
      "157/157 [==============================] - 15s 91ms/step - loss: 877.2172\n",
      "Epoch 2/100\n",
      "157/157 [==============================] - 14s 92ms/step - loss: 370.7941\n",
      "Epoch 3/100\n",
      "157/157 [==============================] - 16s 100ms/step - loss: 371.2557\n",
      "Epoch 4/100\n",
      "157/157 [==============================] - 14s 92ms/step - loss: 369.3979\n",
      "Epoch 5/100\n",
      "157/157 [==============================] - 14s 92ms/step - loss: 371.4161\n",
      "Epoch 6/100\n",
      "157/157 [==============================] - 15s 93ms/step - loss: 368.0805\n",
      "Epoch 7/100\n",
      "157/157 [==============================] - 17s 109ms/step - loss: 329.0251\n",
      "Epoch 8/100\n",
      "157/157 [==============================] - 17s 111ms/step - loss: 327.7190\n",
      "Epoch 9/100\n",
      "157/157 [==============================] - 19s 118ms/step - loss: 327.8816\n",
      "Epoch 10/100\n",
      "157/157 [==============================] - 18s 114ms/step - loss: 328.4364\n",
      "Epoch 11/100\n",
      "157/157 [==============================] - 18s 117ms/step - loss: 327.6780\n",
      "Epoch 12/100\n",
      "157/157 [==============================] - 19s 122ms/step - loss: 329.9268\n",
      "Epoch 13/100\n",
      "157/157 [==============================] - 21s 132ms/step - loss: 327.5713\n",
      "Epoch 14/100\n",
      "157/157 [==============================] - 20s 128ms/step - loss: 315.0775\n",
      "Epoch 15/100\n",
      "157/157 [==============================] - 21s 133ms/step - loss: 295.5755\n",
      "Epoch 16/100\n",
      "157/157 [==============================] - 23s 148ms/step - loss: 294.10161s - loss: \n",
      "Epoch 17/100\n",
      "157/157 [==============================] - 24s 154ms/step - loss: 292.2149\n",
      "Epoch 18/100\n",
      "157/157 [==============================] - 23s 147ms/step - loss: 292.7334\n",
      "Epoch 19/100\n",
      "157/157 [==============================] - 24s 150ms/step - loss: 293.2894\n",
      "Epoch 20/100\n",
      "157/157 [==============================] - 24s 154ms/step - loss: 290.5040\n",
      "Epoch 21/100\n",
      "157/157 [==============================] - 24s 155ms/step - loss: 291.0407\n",
      "Epoch 22/100\n",
      "157/157 [==============================] - 25s 157ms/step - loss: 291.4412\n",
      "Epoch 23/100\n",
      "157/157 [==============================] - 25s 157ms/step - loss: 290.0600\n",
      "Epoch 24/100\n",
      "157/157 [==============================] - 25s 158ms/step - loss: 289.8151\n",
      "Epoch 25/100\n",
      "157/157 [==============================] - 25s 158ms/step - loss: 288.0080\n",
      "Epoch 26/100\n",
      "157/157 [==============================] - 25s 157ms/step - loss: 289.5775\n",
      "Epoch 27/100\n",
      "157/157 [==============================] - 25s 160ms/step - loss: 288.52800s - loss: 288.5\n",
      "Epoch 28/100\n",
      "157/157 [==============================] - 28s 178ms/step - loss: 287.4903\n",
      "Epoch 29/100\n",
      "157/157 [==============================] - 26s 165ms/step - loss: 285.7588\n",
      "Epoch 30/100\n",
      "157/157 [==============================] - 25s 158ms/step - loss: 284.9811\n",
      "Epoch 31/100\n",
      "157/157 [==============================] - 26s 166ms/step - loss: 283.8238\n",
      "Epoch 32/100\n",
      "157/157 [==============================] - 31s 199ms/step - loss: 284.2032\n",
      "Epoch 33/100\n",
      "157/157 [==============================] - 31s 198ms/step - loss: 281.2728\n",
      "Epoch 34/100\n",
      "157/157 [==============================] - 31s 199ms/step - loss: 280.0343\n",
      "Epoch 35/100\n",
      "157/157 [==============================] - 32s 207ms/step - loss: 278.8672\n",
      "Epoch 36/100\n",
      "157/157 [==============================] - 31s 198ms/step - loss: 278.2950\n",
      "Epoch 37/100\n",
      "157/157 [==============================] - 31s 199ms/step - loss: 276.3543\n",
      "Epoch 38/100\n",
      "157/157 [==============================] - 33s 208ms/step - loss: 273.9513\n",
      "Epoch 39/100\n",
      "157/157 [==============================] - 30s 190ms/step - loss: 272.7179\n",
      "Epoch 40/100\n",
      "157/157 [==============================] - 28s 177ms/step - loss: 271.6637\n",
      "Epoch 41/100\n",
      "157/157 [==============================] - 27s 174ms/step - loss: 270.5885\n",
      "Epoch 42/100\n",
      "157/157 [==============================] - 27s 172ms/step - loss: 268.8810\n",
      "Epoch 43/100\n",
      "157/157 [==============================] - 27s 169ms/step - loss: 266.8956\n",
      "Epoch 44/100\n",
      "157/157 [==============================] - 27s 170ms/step - loss: 265.5104\n",
      "Epoch 45/100\n",
      "157/157 [==============================] - 27s 174ms/step - loss: 264.6529\n",
      "Epoch 46/100\n",
      "157/157 [==============================] - 33s 208ms/step - loss: 263.3962\n",
      "Epoch 47/100\n",
      "157/157 [==============================] - 31s 200ms/step - loss: 261.81303s\n",
      "Epoch 48/100\n",
      "157/157 [==============================] - 28s 177ms/step - loss: 260.9647\n",
      "Epoch 49/100\n",
      "157/157 [==============================] - 28s 177ms/step - loss: 260.3674\n",
      "Epoch 50/100\n",
      "157/157 [==============================] - 31s 200ms/step - loss: 257.9547\n",
      "Epoch 51/100\n",
      "157/157 [==============================] - 29s 184ms/step - loss: 259.4363\n",
      "Epoch 52/100\n",
      "157/157 [==============================] - 28s 178ms/step - loss: 258.03391s - loss:\n",
      "Epoch 53/100\n",
      "157/157 [==============================] - 30s 190ms/step - loss: 257.8294\n",
      "Epoch 54/100\n",
      "157/157 [==============================] - 29s 184ms/step - loss: 256.3782\n",
      "Epoch 55/100\n",
      "157/157 [==============================] - 27s 173ms/step - loss: 255.5666\n",
      "Epoch 56/100\n",
      "157/157 [==============================] - 28s 180ms/step - loss: 255.2628\n",
      "Epoch 57/100\n",
      "157/157 [==============================] - 27s 173ms/step - loss: 255.2299\n",
      "Epoch 58/100\n",
      "157/157 [==============================] - 28s 180ms/step - loss: 254.1947\n",
      "Epoch 59/100\n",
      "157/157 [==============================] - 30s 190ms/step - loss: 254.4772\n",
      "Epoch 60/100\n",
      " 34/157 [=====>........................] - ETA: 25s - loss: 254.2917"
     ]
    },
    {
     "ename": "KeyboardInterrupt",
     "evalue": "",
     "output_type": "error",
     "traceback": [
      "\u001b[1;31m---------------------------------------------------------------------------\u001b[0m",
      "\u001b[1;31mKeyboardInterrupt\u001b[0m                         Traceback (most recent call last)",
      "\u001b[1;32m<ipython-input-460-5d31d5d5efb1>\u001b[0m in \u001b[0;36m<module>\u001b[1;34m\u001b[0m\n\u001b[1;32m----> 1\u001b[1;33m \u001b[0mmodel\u001b[0m\u001b[1;33m.\u001b[0m\u001b[0mfit\u001b[0m\u001b[1;33m(\u001b[0m\u001b[0mX_block\u001b[0m\u001b[1;33m,\u001b[0m\u001b[0my_block\u001b[0m\u001b[1;33m,\u001b[0m\u001b[0mepochs\u001b[0m \u001b[1;33m=\u001b[0m \u001b[1;36m100\u001b[0m\u001b[1;33m)\u001b[0m\u001b[1;33m\u001b[0m\u001b[1;33m\u001b[0m\u001b[0m\n\u001b[0m\u001b[0;32m      2\u001b[0m \u001b[0mclear_output\u001b[0m\u001b[1;33m(\u001b[0m\u001b[1;33m)\u001b[0m\u001b[1;33m\u001b[0m\u001b[1;33m\u001b[0m\u001b[0m\n",
      "\u001b[1;32m~\\Miniconda3\\lib\\site-packages\\tensorflow\\python\\keras\\engine\\training.py\u001b[0m in \u001b[0;36mfit\u001b[1;34m(self, x, y, batch_size, epochs, verbose, callbacks, validation_split, validation_data, shuffle, class_weight, sample_weight, initial_epoch, steps_per_epoch, validation_steps, validation_batch_size, validation_freq, max_queue_size, workers, use_multiprocessing)\u001b[0m\n\u001b[0;32m   1098\u001b[0m                 _r=1):\n\u001b[0;32m   1099\u001b[0m               \u001b[0mcallbacks\u001b[0m\u001b[1;33m.\u001b[0m\u001b[0mon_train_batch_begin\u001b[0m\u001b[1;33m(\u001b[0m\u001b[0mstep\u001b[0m\u001b[1;33m)\u001b[0m\u001b[1;33m\u001b[0m\u001b[1;33m\u001b[0m\u001b[0m\n\u001b[1;32m-> 1100\u001b[1;33m               \u001b[0mtmp_logs\u001b[0m \u001b[1;33m=\u001b[0m \u001b[0mself\u001b[0m\u001b[1;33m.\u001b[0m\u001b[0mtrain_function\u001b[0m\u001b[1;33m(\u001b[0m\u001b[0miterator\u001b[0m\u001b[1;33m)\u001b[0m\u001b[1;33m\u001b[0m\u001b[1;33m\u001b[0m\u001b[0m\n\u001b[0m\u001b[0;32m   1101\u001b[0m               \u001b[1;32mif\u001b[0m \u001b[0mdata_handler\u001b[0m\u001b[1;33m.\u001b[0m\u001b[0mshould_sync\u001b[0m\u001b[1;33m:\u001b[0m\u001b[1;33m\u001b[0m\u001b[1;33m\u001b[0m\u001b[0m\n\u001b[0;32m   1102\u001b[0m                 \u001b[0mcontext\u001b[0m\u001b[1;33m.\u001b[0m\u001b[0masync_wait\u001b[0m\u001b[1;33m(\u001b[0m\u001b[1;33m)\u001b[0m\u001b[1;33m\u001b[0m\u001b[1;33m\u001b[0m\u001b[0m\n",
      "\u001b[1;32m~\\Miniconda3\\lib\\site-packages\\tensorflow\\python\\eager\\def_function.py\u001b[0m in \u001b[0;36m__call__\u001b[1;34m(self, *args, **kwds)\u001b[0m\n\u001b[0;32m    826\u001b[0m     \u001b[0mtracing_count\u001b[0m \u001b[1;33m=\u001b[0m \u001b[0mself\u001b[0m\u001b[1;33m.\u001b[0m\u001b[0mexperimental_get_tracing_count\u001b[0m\u001b[1;33m(\u001b[0m\u001b[1;33m)\u001b[0m\u001b[1;33m\u001b[0m\u001b[1;33m\u001b[0m\u001b[0m\n\u001b[0;32m    827\u001b[0m     \u001b[1;32mwith\u001b[0m \u001b[0mtrace\u001b[0m\u001b[1;33m.\u001b[0m\u001b[0mTrace\u001b[0m\u001b[1;33m(\u001b[0m\u001b[0mself\u001b[0m\u001b[1;33m.\u001b[0m\u001b[0m_name\u001b[0m\u001b[1;33m)\u001b[0m \u001b[1;32mas\u001b[0m \u001b[0mtm\u001b[0m\u001b[1;33m:\u001b[0m\u001b[1;33m\u001b[0m\u001b[1;33m\u001b[0m\u001b[0m\n\u001b[1;32m--> 828\u001b[1;33m       \u001b[0mresult\u001b[0m \u001b[1;33m=\u001b[0m \u001b[0mself\u001b[0m\u001b[1;33m.\u001b[0m\u001b[0m_call\u001b[0m\u001b[1;33m(\u001b[0m\u001b[1;33m*\u001b[0m\u001b[0margs\u001b[0m\u001b[1;33m,\u001b[0m \u001b[1;33m**\u001b[0m\u001b[0mkwds\u001b[0m\u001b[1;33m)\u001b[0m\u001b[1;33m\u001b[0m\u001b[1;33m\u001b[0m\u001b[0m\n\u001b[0m\u001b[0;32m    829\u001b[0m       \u001b[0mcompiler\u001b[0m \u001b[1;33m=\u001b[0m \u001b[1;34m\"xla\"\u001b[0m \u001b[1;32mif\u001b[0m \u001b[0mself\u001b[0m\u001b[1;33m.\u001b[0m\u001b[0m_experimental_compile\u001b[0m \u001b[1;32melse\u001b[0m \u001b[1;34m\"nonXla\"\u001b[0m\u001b[1;33m\u001b[0m\u001b[1;33m\u001b[0m\u001b[0m\n\u001b[0;32m    830\u001b[0m       \u001b[0mnew_tracing_count\u001b[0m \u001b[1;33m=\u001b[0m \u001b[0mself\u001b[0m\u001b[1;33m.\u001b[0m\u001b[0mexperimental_get_tracing_count\u001b[0m\u001b[1;33m(\u001b[0m\u001b[1;33m)\u001b[0m\u001b[1;33m\u001b[0m\u001b[1;33m\u001b[0m\u001b[0m\n",
      "\u001b[1;32m~\\Miniconda3\\lib\\site-packages\\tensorflow\\python\\eager\\def_function.py\u001b[0m in \u001b[0;36m_call\u001b[1;34m(self, *args, **kwds)\u001b[0m\n\u001b[0;32m    853\u001b[0m       \u001b[1;31m# In this case we have created variables on the first call, so we run the\u001b[0m\u001b[1;33m\u001b[0m\u001b[1;33m\u001b[0m\u001b[1;33m\u001b[0m\u001b[0m\n\u001b[0;32m    854\u001b[0m       \u001b[1;31m# defunned version which is guaranteed to never create variables.\u001b[0m\u001b[1;33m\u001b[0m\u001b[1;33m\u001b[0m\u001b[1;33m\u001b[0m\u001b[0m\n\u001b[1;32m--> 855\u001b[1;33m       \u001b[1;32mreturn\u001b[0m \u001b[0mself\u001b[0m\u001b[1;33m.\u001b[0m\u001b[0m_stateless_fn\u001b[0m\u001b[1;33m(\u001b[0m\u001b[1;33m*\u001b[0m\u001b[0margs\u001b[0m\u001b[1;33m,\u001b[0m \u001b[1;33m**\u001b[0m\u001b[0mkwds\u001b[0m\u001b[1;33m)\u001b[0m  \u001b[1;31m# pylint: disable=not-callable\u001b[0m\u001b[1;33m\u001b[0m\u001b[1;33m\u001b[0m\u001b[0m\n\u001b[0m\u001b[0;32m    856\u001b[0m     \u001b[1;32melif\u001b[0m \u001b[0mself\u001b[0m\u001b[1;33m.\u001b[0m\u001b[0m_stateful_fn\u001b[0m \u001b[1;32mis\u001b[0m \u001b[1;32mnot\u001b[0m \u001b[1;32mNone\u001b[0m\u001b[1;33m:\u001b[0m\u001b[1;33m\u001b[0m\u001b[1;33m\u001b[0m\u001b[0m\n\u001b[0;32m    857\u001b[0m       \u001b[1;31m# Release the lock early so that multiple threads can perform the call\u001b[0m\u001b[1;33m\u001b[0m\u001b[1;33m\u001b[0m\u001b[1;33m\u001b[0m\u001b[0m\n",
      "\u001b[1;32m~\\Miniconda3\\lib\\site-packages\\tensorflow\\python\\eager\\function.py\u001b[0m in \u001b[0;36m__call__\u001b[1;34m(self, *args, **kwargs)\u001b[0m\n\u001b[0;32m   2940\u001b[0m       (graph_function,\n\u001b[0;32m   2941\u001b[0m        filtered_flat_args) = self._maybe_define_function(args, kwargs)\n\u001b[1;32m-> 2942\u001b[1;33m     return graph_function._call_flat(\n\u001b[0m\u001b[0;32m   2943\u001b[0m         filtered_flat_args, captured_inputs=graph_function.captured_inputs)  # pylint: disable=protected-access\n\u001b[0;32m   2944\u001b[0m \u001b[1;33m\u001b[0m\u001b[0m\n",
      "\u001b[1;32m~\\Miniconda3\\lib\\site-packages\\tensorflow\\python\\eager\\function.py\u001b[0m in \u001b[0;36m_call_flat\u001b[1;34m(self, args, captured_inputs, cancellation_manager)\u001b[0m\n\u001b[0;32m   1916\u001b[0m         and executing_eagerly):\n\u001b[0;32m   1917\u001b[0m       \u001b[1;31m# No tape is watching; skip to running the function.\u001b[0m\u001b[1;33m\u001b[0m\u001b[1;33m\u001b[0m\u001b[1;33m\u001b[0m\u001b[0m\n\u001b[1;32m-> 1918\u001b[1;33m       return self._build_call_outputs(self._inference_function.call(\n\u001b[0m\u001b[0;32m   1919\u001b[0m           ctx, args, cancellation_manager=cancellation_manager))\n\u001b[0;32m   1920\u001b[0m     forward_backward = self._select_forward_and_backward_functions(\n",
      "\u001b[1;32m~\\Miniconda3\\lib\\site-packages\\tensorflow\\python\\eager\\function.py\u001b[0m in \u001b[0;36mcall\u001b[1;34m(self, ctx, args, cancellation_manager)\u001b[0m\n\u001b[0;32m    553\u001b[0m       \u001b[1;32mwith\u001b[0m \u001b[0m_InterpolateFunctionError\u001b[0m\u001b[1;33m(\u001b[0m\u001b[0mself\u001b[0m\u001b[1;33m)\u001b[0m\u001b[1;33m:\u001b[0m\u001b[1;33m\u001b[0m\u001b[1;33m\u001b[0m\u001b[0m\n\u001b[0;32m    554\u001b[0m         \u001b[1;32mif\u001b[0m \u001b[0mcancellation_manager\u001b[0m \u001b[1;32mis\u001b[0m \u001b[1;32mNone\u001b[0m\u001b[1;33m:\u001b[0m\u001b[1;33m\u001b[0m\u001b[1;33m\u001b[0m\u001b[0m\n\u001b[1;32m--> 555\u001b[1;33m           outputs = execute.execute(\n\u001b[0m\u001b[0;32m    556\u001b[0m               \u001b[0mstr\u001b[0m\u001b[1;33m(\u001b[0m\u001b[0mself\u001b[0m\u001b[1;33m.\u001b[0m\u001b[0msignature\u001b[0m\u001b[1;33m.\u001b[0m\u001b[0mname\u001b[0m\u001b[1;33m)\u001b[0m\u001b[1;33m,\u001b[0m\u001b[1;33m\u001b[0m\u001b[1;33m\u001b[0m\u001b[0m\n\u001b[0;32m    557\u001b[0m               \u001b[0mnum_outputs\u001b[0m\u001b[1;33m=\u001b[0m\u001b[0mself\u001b[0m\u001b[1;33m.\u001b[0m\u001b[0m_num_outputs\u001b[0m\u001b[1;33m,\u001b[0m\u001b[1;33m\u001b[0m\u001b[1;33m\u001b[0m\u001b[0m\n",
      "\u001b[1;32m~\\Miniconda3\\lib\\site-packages\\tensorflow\\python\\eager\\execute.py\u001b[0m in \u001b[0;36mquick_execute\u001b[1;34m(op_name, num_outputs, inputs, attrs, ctx, name)\u001b[0m\n\u001b[0;32m     57\u001b[0m   \u001b[1;32mtry\u001b[0m\u001b[1;33m:\u001b[0m\u001b[1;33m\u001b[0m\u001b[1;33m\u001b[0m\u001b[0m\n\u001b[0;32m     58\u001b[0m     \u001b[0mctx\u001b[0m\u001b[1;33m.\u001b[0m\u001b[0mensure_initialized\u001b[0m\u001b[1;33m(\u001b[0m\u001b[1;33m)\u001b[0m\u001b[1;33m\u001b[0m\u001b[1;33m\u001b[0m\u001b[0m\n\u001b[1;32m---> 59\u001b[1;33m     tensors = pywrap_tfe.TFE_Py_Execute(ctx._handle, device_name, op_name,\n\u001b[0m\u001b[0;32m     60\u001b[0m                                         inputs, attrs, num_outputs)\n\u001b[0;32m     61\u001b[0m   \u001b[1;32mexcept\u001b[0m \u001b[0mcore\u001b[0m\u001b[1;33m.\u001b[0m\u001b[0m_NotOkStatusException\u001b[0m \u001b[1;32mas\u001b[0m \u001b[0me\u001b[0m\u001b[1;33m:\u001b[0m\u001b[1;33m\u001b[0m\u001b[1;33m\u001b[0m\u001b[0m\n",
      "\u001b[1;31mKeyboardInterrupt\u001b[0m: "
     ]
    }
   ],
   "source": [
    "model.fit(X_block,y_block,epochs = 100)\n",
    "clear_output()"
   ]
  },
  {
   "cell_type": "code",
   "execution_count": 441,
   "metadata": {
    "ExecuteTime": {
     "end_time": "2021-06-05T12:58:50.296482Z",
     "start_time": "2021-06-05T12:58:50.275553Z"
    }
   },
   "outputs": [
    {
     "data": {
      "text/plain": [
       "8.0"
      ]
     },
     "execution_count": 441,
     "metadata": {},
     "output_type": "execute_result"
    }
   ],
   "source": [
    "def myround(x, base=5):\n",
    "    return base * np.around(x/base)\n",
    "\n",
    "myround(10,4)"
   ]
  },
  {
   "cell_type": "code",
   "execution_count": 444,
   "metadata": {
    "ExecuteTime": {
     "end_time": "2021-06-05T13:03:34.388082Z",
     "start_time": "2021-06-05T13:03:32.451318Z"
    }
   },
   "outputs": [
    {
     "data": {
      "text/plain": [
       "<matplotlib.image.AxesImage at 0x2499fcf3640>"
      ]
     },
     "execution_count": 444,
     "metadata": {},
     "output_type": "execute_result"
    },
    {
     "data": {
      "image/png": "[encoded data removed]",
      "text/plain": [
       "<Figure size 432x288 with 1 Axes>"
      ]
     },
     "metadata": {
      "needs_background": "light"
     },
     "output_type": "display_data"
    }
   ],
   "source": [
    "pred = model.predict(X_block)\n",
    "pred = myround(pred,3)\n",
    "original_copy,colour_list = fill_in_block(X_block[1],pred[1])\n",
    "img = array2img_analysis(original_copy,colour_list)\n",
    "plt.imshow(img)"
   ]
  },
  {
   "cell_type": "code",
   "execution_count": 445,
   "metadata": {
    "ExecuteTime": {
     "end_time": "2021-06-05T13:03:41.626176Z",
     "start_time": "2021-06-05T13:03:41.498597Z"
    }
   },
   "outputs": [
    {
     "data": {
      "image/png": "[encoded data removed]",
      "text/plain": [
       "<Figure size 432x288 with 1 Axes>"
      ]
     },
     "metadata": {
      "needs_background": "light"
     },
     "output_type": "display_data"
    }
   ],
   "source": [
    "img = array2img(original_copy)\n",
    "plt.imshow(img)\n",
    "\n",
    "from PIL import Image\n",
    "os.chdir('C:\\\\Users\\\\v_sim\\\\Desktop')\n",
    "new_image = Image.fromarray(np.array(img))\n",
    "new_image = new_image.convert(\"L\")\n",
    "new_image.save('composition.png')"
   ]
  },
  {
   "cell_type": "code",
   "execution_count": 405,
   "metadata": {
    "ExecuteTime": {
     "end_time": "2021-06-04T21:37:23.926385Z",
     "start_time": "2021-06-04T21:31:20.438007Z"
    }
   },
   "outputs": [],
   "source": [
    "model.fit(X_line0,y_line0,epochs = 20)\n",
    "clear_output()"
   ]
  },
  {
   "cell_type": "code",
   "execution_count": 406,
   "metadata": {
    "ExecuteTime": {
     "end_time": "2021-06-04T21:37:55.675564Z",
     "start_time": "2021-06-04T21:37:54.093783Z"
    }
   },
   "outputs": [],
   "source": [
    "pred = model.predict(X_line0)\n",
    "pred = np.around(pred).astype(int)"
   ]
  },
  {
   "cell_type": "code",
   "execution_count": 407,
   "metadata": {
    "ExecuteTime": {
     "end_time": "2021-06-04T21:37:56.867511Z",
     "start_time": "2021-06-04T21:37:56.750903Z"
    }
   },
   "outputs": [
    {
     "data": {
      "image/png": "[encoded data removed]",
      "text/plain": [
       "<Figure size 432x288 with 1 Axes>"
      ]
     },
     "metadata": {
      "needs_background": "light"
     },
     "output_type": "display_data"
    }
   ],
   "source": [
    "img = array2img(pred[0])\n",
    "plt.imshow(img)\n",
    "\n",
    "from PIL import Image\n",
    "os.chdir('C:\\\\Users\\\\v_sim\\\\Desktop')\n",
    "new_image = Image.fromarray(np.array(img))\n",
    "new_image = new_image.convert(\"L\")\n",
    "new_image.save('composition.png')"
   ]
  },
  {
   "cell_type": "code",
   "execution_count": 410,
   "metadata": {
    "ExecuteTime": {
     "end_time": "2021-06-04T21:38:33.755801Z",
     "start_time": "2021-06-04T21:38:33.622244Z"
    }
   },
   "outputs": [
    {
     "data": {
      "text/plain": [
       "<matplotlib.image.AxesImage at 0x249b458e250>"
      ]
     },
     "execution_count": 410,
     "metadata": {},
     "output_type": "execute_result"
    },
    {
     "data": {
      "image/png": "[encoded data removed]",
      "text/plain": [
       "<Figure size 432x288 with 1 Axes>"
      ]
     },
     "metadata": {
      "needs_background": "light"
     },
     "output_type": "display_data"
    }
   ],
   "source": [
    "img = array2img(y_line0[0])\n",
    "plt.imshow(img)"
   ]
  },
  {
   "cell_type": "code",
   "execution_count": null,
   "metadata": {},
   "outputs": [],
   "source": []
  }
 ],
 "metadata": {
  "kernelspec": {
   "display_name": "Python 3",
   "language": "python",
   "name": "python3"
  },
  "language_info": {
   "codemirror_mode": {
    "name": "ipython",
    "version": 3
   },
   "file_extension": ".py",
   "mimetype": "text/x-python",
   "name": "python",
   "nbconvert_exporter": "python",
   "pygments_lexer": "ipython3",
   "version": "3.8.3"
  }
 },
 "nbformat": 4,
 "nbformat_minor": 4
}
